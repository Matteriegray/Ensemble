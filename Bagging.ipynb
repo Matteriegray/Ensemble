{
  "nbformat": 4,
  "nbformat_minor": 0,
  "metadata": {
    "colab": {
      "provenance": [],
      "authorship_tag": "ABX9TyP21VHNZMU+EsiKrGVcUmNk",
      "include_colab_link": true
    },
    "kernelspec": {
      "name": "python3",
      "display_name": "Python 3"
    },
    "language_info": {
      "name": "python"
    }
  },
  "cells": [
    {
      "cell_type": "markdown",
      "metadata": {
        "id": "view-in-github",
        "colab_type": "text"
      },
      "source": [
        "<a href=\"https://colab.research.google.com/github/Matteriegray/Ensemble/blob/main/Bagging.ipynb\" target=\"_parent\"><img src=\"https://colab.research.google.com/assets/colab-badge.svg\" alt=\"Open In Colab\"/></a>"
      ]
    },
    {
      "cell_type": "code",
      "execution_count": null,
      "metadata": {
        "id": "AyJeTDVU-kWw"
      },
      "outputs": [],
      "source": [
        "from sklearn.datasets import load_breast_cancer, load_iris\n",
        "from sklearn.model_selection import train_test_split\n",
        "from sklearn.tree import DecisionTreeClassifier\n",
        "from sklearn.ensemble import BaggingClassifier, AdaBoostClassifier, VotingClassifier"
      ]
    },
    {
      "cell_type": "code",
      "source": [
        "X, y = load_iris(return_X_y=True)\n",
        "X_train, X_test, y_train, y_test = train_test_split(X, y, test_size = 0.2, random_state=23)"
      ],
      "metadata": {
        "id": "vG-iJYMO_Z6p"
      },
      "execution_count": null,
      "outputs": []
    },
    {
      "cell_type": "code",
      "source": [
        "tree = DecisionTreeClassifier(max_depth = 3, random_state = 23)"
      ],
      "metadata": {
        "id": "w_EhqQgs_r_W"
      },
      "execution_count": null,
      "outputs": []
    },
    {
      "cell_type": "code",
      "source": [
        "bagging = BaggingClassifier(estimator=tree, n_estimators = 5, max_samples = 29, bootstrap = True)\n",
        "bagging.fit(X_train, y_train)"
      ],
      "metadata": {
        "id": "7_iBoTy2AIUI"
      },
      "execution_count": null,
      "outputs": []
    },
    {
      "cell_type": "code",
      "source": [
        "print(bagging.score(X_train, y_train))\n",
        "print(bagging.score(X_test, y_test))"
      ],
      "metadata": {
        "id": "kjZ6RWgZAaM6",
        "colab": {
          "base_uri": "https://localhost:8080/"
        },
        "outputId": "46e2b2d8-8169-453e-b73c-b4474f81a54a"
      },
      "execution_count": null,
      "outputs": [
        {
          "output_type": "stream",
          "name": "stdout",
          "text": [
            "0.96\n",
            "1.0\n"
          ]
        }
      ]
    },
    {
      "cell_type": "code",
      "source": [
        "boost = AdaBoostClassifier(estimator = tree, n_estimators = 5, learning_rate = 0.5)\n",
        "boost.fit(X_train,y_train)\n",
        "boost.score(X_train,y_train)"
      ],
      "metadata": {
        "colab": {
          "base_uri": "https://localhost:8080/"
        },
        "id": "6ZdifLPgEyHO",
        "outputId": "00bab03a-e21a-493a-cce4-a0cf33f1aa1d"
      },
      "execution_count": null,
      "outputs": [
        {
          "output_type": "execute_result",
          "data": {
            "text/plain": [
              "0.992"
            ]
          },
          "metadata": {},
          "execution_count": 42
        }
      ]
    },
    {
      "cell_type": "code",
      "source": [
        "boost.fit(X_test, y_test)\n",
        "boost.score(X_test, y_test)"
      ],
      "metadata": {
        "colab": {
          "base_uri": "https://localhost:8080/"
        },
        "id": "eAiDoloHFRVt",
        "outputId": "3771bcd2-de8c-4e4d-bdef-1d0266b479a3"
      },
      "execution_count": null,
      "outputs": [
        {
          "output_type": "execute_result",
          "data": {
            "text/plain": [
              "1.0"
            ]
          },
          "metadata": {},
          "execution_count": 48
        }
      ]
    },
    {
      "cell_type": "code",
      "source": [
        "vclf = VotingClassifier(estimators=[('tree', tree), ('bagging', bagging), ('boost', boost)], voting = 'hard')\n",
        "vclf.fit(X_train[:4000], y_train[:4000])\n",
        "vclf.score(X_train, y_train)\n",
        "X_test.shape"
      ],
      "metadata": {
        "colab": {
          "base_uri": "https://localhost:8080/"
        },
        "id": "SLjXcUpYGYri",
        "outputId": "2856e0e8-296c-4b11-c665-e24027f9ae8c"
      },
      "execution_count": null,
      "outputs": [
        {
          "output_type": "execute_result",
          "data": {
            "text/plain": [
              "(30, 4)"
            ]
          },
          "metadata": {},
          "execution_count": 55
        }
      ]
    },
    {
      "cell_type": "code",
      "source": [
        "vclf.fit(X_test, y_test)\n",
        "vclf.score(X_test, y_test)"
      ],
      "metadata": {
        "colab": {
          "base_uri": "https://localhost:8080/"
        },
        "id": "lFpWAIRIGpWd",
        "outputId": "02bb4695-01d0-4bcb-d9df-a90364907b2c"
      },
      "execution_count": null,
      "outputs": [
        {
          "output_type": "execute_result",
          "data": {
            "text/plain": [
              "1.0"
            ]
          },
          "metadata": {},
          "execution_count": 58
        }
      ]
    },
    {
      "cell_type": "code",
      "source": [],
      "metadata": {
        "id": "GooJOufQJ81F"
      },
      "execution_count": null,
      "outputs": []
    }
  ]
}