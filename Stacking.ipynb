{
  "nbformat": 4,
  "nbformat_minor": 0,
  "metadata": {
    "colab": {
      "provenance": [],
      "authorship_tag": "ABX9TyNBI78TncUxvL533xT5y9Cr",
      "include_colab_link": true
    },
    "kernelspec": {
      "name": "python3",
      "display_name": "Python 3"
    },
    "language_info": {
      "name": "python"
    }
  },
  "cells": [
    {
      "cell_type": "markdown",
      "metadata": {
        "id": "view-in-github",
        "colab_type": "text"
      },
      "source": [
        "<a href=\"https://colab.research.google.com/github/Matteriegray/Ensemble/blob/main/Stacking.ipynb\" target=\"_parent\"><img src=\"https://colab.research.google.com/assets/colab-badge.svg\" alt=\"Open In Colab\"/></a>"
      ]
    },
    {
      "cell_type": "code",
      "execution_count": 13,
      "metadata": {
        "id": "U8W0YquACtIP"
      },
      "outputs": [],
      "source": [
        "from sklearn.datasets import load_iris\n",
        "X, y = load_iris(return_X_y=True)\n"
      ]
    },
    {
      "cell_type": "code",
      "source": [
        "from sklearn.feature_selection import VarianceThreshold\n",
        "\n",
        "selection = VarianceThreshold(threshold=(0.1))\n",
        "X = selection.fit_transform(X)\n",
        "print(X.shape)"
      ],
      "metadata": {
        "colab": {
          "base_uri": "https://localhost:8080/"
        },
        "id": "UumPEF-RC5Mz",
        "outputId": "500ae56b-fb71-41fd-aa09-a05efb7c881e"
      },
      "execution_count": 14,
      "outputs": [
        {
          "output_type": "stream",
          "name": "stdout",
          "text": [
            "(150, 4)\n"
          ]
        }
      ]
    },
    {
      "cell_type": "code",
      "source": [
        "from sklearn.model_selection import train_test_split\n",
        "X_train, X_test, y_train, y_test = train_test_split(X, y,test_size = 25, random_state=23)\n",
        "X_train.shape , X_test.shape"
      ],
      "metadata": {
        "colab": {
          "base_uri": "https://localhost:8080/"
        },
        "id": "wTNS38XRDRVQ",
        "outputId": "ba3600a2-aac8-4d0c-8c5f-fbef1a5a4375"
      },
      "execution_count": 15,
      "outputs": [
        {
          "output_type": "execute_result",
          "data": {
            "text/plain": [
              "((125, 4), (25, 4))"
            ]
          },
          "metadata": {},
          "execution_count": 15
        }
      ]
    },
    {
      "cell_type": "code",
      "source": [
        "#importing the metrics\n",
        "from sklearn.metrics import accuracy_score\n",
        "from sklearn.metrics import matthews_corrcoef\n",
        "from sklearn.metrics import f1_score"
      ],
      "metadata": {
        "id": "fd8GR11mEApY"
      },
      "execution_count": 16,
      "outputs": []
    },
    {
      "cell_type": "code",
      "source": [
        "#Lets build the models from here"
      ],
      "metadata": {
        "id": "SnuGVSHFEXr2"
      },
      "execution_count": 17,
      "outputs": []
    },
    {
      "cell_type": "code",
      "source": [
        "#KNN\n",
        "from sklearn.neighbors import KNeighborsClassifier\n",
        "knn = KNeighborsClassifier(3)\n",
        "knn.fit(X_train, y_train)\n",
        "\n",
        "#Make predictions\n",
        "y_train_pred = knn.predict(X_train)\n",
        "y_test_pred = knn.predict(X_test)\n"
      ],
      "metadata": {
        "id": "34oWaBfYEbdA"
      },
      "execution_count": 18,
      "outputs": []
    },
    {
      "cell_type": "code",
      "source": [
        "#See the score of the train data\n",
        "knn_train_acc = accuracy_score(y_train, y_train_pred)\n",
        "knn_train_mcc = matthews_corrcoef(y_train, y_train_pred)\n",
        "knn_train_f1 = f1_score(y_train, y_train_pred, average = 'weighted')\n",
        "print('Model performance for Training set')\n",
        "print('- Accuracy: %s' % knn_train_acc)\n",
        "print('- MCC: %s' % knn_train_mcc)\n",
        "print('- F1 score: %s' % knn_train_f1)"
      ],
      "metadata": {
        "colab": {
          "base_uri": "https://localhost:8080/"
        },
        "id": "Dq8pTj36FWoG",
        "outputId": "72743364-4fb0-4f16-de1b-d5db6e4bed60"
      },
      "execution_count": 19,
      "outputs": [
        {
          "output_type": "stream",
          "name": "stdout",
          "text": [
            "Model performance for Training set\n",
            "- Accuracy: 0.96\n",
            "- MCC: 0.9400576542369509\n",
            "- F1 score: 0.9600110787979504\n"
          ]
        }
      ]
    },
    {
      "cell_type": "code",
      "source": [
        "#See the score of test data\n",
        "knn_test_acc =  accuracy_score(y_test, y_test_pred)\n",
        "knn_test_mcc = matthews_corrcoef(y_test, y_test_pred)\n",
        "knn_test_f1 = f1_score(y_test, y_test_pred, average = 'weighted')\n",
        "print('Model performance for Test set')\n",
        "print('- Accuracy: %s' % knn_test_acc)\n",
        "print('- MCC: %s' % knn_test_mcc)\n",
        "print('- F1 score: %s' % knn_test_f1)"
      ],
      "metadata": {
        "colab": {
          "base_uri": "https://localhost:8080/"
        },
        "id": "CYDm5C2RFWVl",
        "outputId": "92e184b8-f962-4ba0-e32c-69e74db25c2d"
      },
      "execution_count": 20,
      "outputs": [
        {
          "output_type": "stream",
          "name": "stdout",
          "text": [
            "Model performance for Test set\n",
            "- Accuracy: 0.96\n",
            "- MCC: 0.9414746160644475\n",
            "- F1 score: 0.9603619909502262\n"
          ]
        }
      ]
    },
    {
      "cell_type": "code",
      "source": [
        "# Decision Tree\n",
        "\n",
        "from sklearn.tree import DecisionTreeClassifier\n",
        "\n",
        "dt = DecisionTreeClassifier(max_depth=5)\n",
        "dt.fit(X_train, y_train)\n",
        "\n",
        "#Make predictions\n",
        "y_train_pred = dt.predict(X_train)\n",
        "y_test_pred = dt.predict(X_test)"
      ],
      "metadata": {
        "id": "9dgxxVNuFayJ"
      },
      "execution_count": 21,
      "outputs": []
    },
    {
      "cell_type": "code",
      "source": [
        "#See the score of the train data\n",
        "dt_train_acc = accuracy_score(y_train, y_train_pred)\n",
        "dt_train_mcc = matthews_corrcoef(y_train, y_train_pred)\n",
        "dt_train_f1 = f1_score(y_train, y_train_pred, average='weighted')\n",
        "print('Model performance for Training set')\n",
        "print('- Accuracy: %s' % dt_train_acc)\n",
        "print('- MCC: %s' % dt_train_mcc)\n",
        "print('- F1 score: %s' % dt_train_f1)"
      ],
      "metadata": {
        "colab": {
          "base_uri": "https://localhost:8080/"
        },
        "id": "XlnY7-PCG8Id",
        "outputId": "0ff62bd7-4b64-4d2e-b597-b63bf130c55b"
      },
      "execution_count": 22,
      "outputs": [
        {
          "output_type": "stream",
          "name": "stdout",
          "text": [
            "Model performance for Training set\n",
            "- Accuracy: 0.992\n",
            "- MCC: 0.9880815801394235\n",
            "- F1 score: 0.9919955611041753\n"
          ]
        }
      ]
    },
    {
      "cell_type": "code",
      "source": [
        "#See the score of the test data\n",
        "dt_test_acc = accuracy_score(y_test, y_test_pred)\n",
        "dt_test_mcc = matthews_corrcoef(y_test, y_test_pred)\n",
        "dt_test_f1 = f1_score(y_test, y_test_pred, average='weighted')\n",
        "print('Model performance for Test set')\n",
        "print('- Accuracy: %s' % dt_test_acc)\n",
        "print('- MCC: %s' % dt_test_mcc)\n",
        "print('- F1 score: %s' % dt_test_f1)"
      ],
      "metadata": {
        "colab": {
          "base_uri": "https://localhost:8080/"
        },
        "id": "l0jug5AuHA0o",
        "outputId": "85e7ebbb-1f3f-48cb-a15c-3e4c6966baea"
      },
      "execution_count": 23,
      "outputs": [
        {
          "output_type": "stream",
          "name": "stdout",
          "text": [
            "Model performance for Test set\n",
            "- Accuracy: 0.96\n",
            "- MCC: 0.9414746160644475\n",
            "- F1 score: 0.9603619909502262\n"
          ]
        }
      ]
    },
    {
      "cell_type": "code",
      "source": [
        "# RandomForest\n",
        "from sklearn.ensemble import RandomForestClassifier\n",
        "\n",
        "rf = RandomForestClassifier(n_estimators=10)\n",
        "rf.fit(X_train, y_train)\n",
        "\n",
        "#Make predictions\n",
        "y_train_pred = rf.predict(X_train)\n",
        "y_test_pred = rf.predict(X_test)"
      ],
      "metadata": {
        "id": "-1fUqAMfHZDP"
      },
      "execution_count": 24,
      "outputs": []
    },
    {
      "cell_type": "code",
      "source": [
        "#See the score of the train data\n",
        "rf_train_accuracy = accuracy_score(y_train, y_train_pred)\n",
        "rf_train_mcc = matthews_corrcoef(y_train, y_train_pred)\n",
        "rf_train_f1 = f1_score(y_train, y_train_pred, average='weighted')\n",
        "print('Model performance for Training set')\n",
        "print('- Accuracy: %s' % rf_train_accuracy)\n",
        "print('- MCC: %s' % rf_train_mcc)\n",
        "print('- F1 score: %s' % rf_train_f1)\n"
      ],
      "metadata": {
        "colab": {
          "base_uri": "https://localhost:8080/"
        },
        "id": "9RHjm8GIHk23",
        "outputId": "23d43a4e-21e4-4280-be79-283fc49c8634"
      },
      "execution_count": 25,
      "outputs": [
        {
          "output_type": "stream",
          "name": "stdout",
          "text": [
            "Model performance for Training set\n",
            "- Accuracy: 0.992\n",
            "- MCC: 0.9880883947967788\n",
            "- F1 score: 0.9920022157595901\n"
          ]
        }
      ]
    },
    {
      "cell_type": "code",
      "source": [
        "#See the score of the test data\n",
        "rf_test_accuracy = accuracy_score(y_test, y_test_pred)\n",
        "rf_test_mcc = matthews_corrcoef(y_test, y_test_pred)\n",
        "rf_test_f1 = f1_score(y_test, y_test_pred, average='weighted')\n",
        "print('Model performance for Test set')\n",
        "print('- Accuracy: %s' % rf_test_accuracy)\n",
        "print('- MCC: %s' % rf_test_mcc)\n",
        "print('- F1 score: %s' % rf_test_f1)"
      ],
      "metadata": {
        "colab": {
          "base_uri": "https://localhost:8080/"
        },
        "id": "MJhT9MkJH3RQ",
        "outputId": "d1252fa1-0ff6-4e72-d056-7a486f69429e"
      },
      "execution_count": 26,
      "outputs": [
        {
          "output_type": "stream",
          "name": "stdout",
          "text": [
            "Model performance for Test set\n",
            "- Accuracy: 1.0\n",
            "- MCC: 1.0\n",
            "- F1 score: 1.0\n"
          ]
        }
      ]
    },
    {
      "cell_type": "code",
      "source": [
        "#Stacking\n",
        "\n",
        "from sklearn.ensemble import StackingClassifier\n",
        "from sklearn.linear_model import LogisticRegression\n",
        "\n",
        "estimator_list = [\n",
        "    ('knn',knn),\n",
        "    ('dt',dt),\n",
        "    ('rf',rf)]"
      ],
      "metadata": {
        "id": "C5h5amxwIsmH"
      },
      "execution_count": 27,
      "outputs": []
    },
    {
      "cell_type": "code",
      "source": [
        "# Building the stack model\n",
        "stack_model = StackingClassifier(\n",
        "    estimators=estimator_list, final_estimator=LogisticRegression()\n",
        ")\n"
      ],
      "metadata": {
        "id": "Qz710YPyIyDz"
      },
      "execution_count": 28,
      "outputs": []
    },
    {
      "cell_type": "code",
      "source": [
        "#Training the stack model\n",
        "stack_model.fit(X_train, y_train)\n",
        "\n",
        "#Predicting using stacked model\n",
        "y_train_pred = stack_model.predict(X_train)\n",
        "y_test_pred = stack_model.predict(X_test)"
      ],
      "metadata": {
        "id": "6QVibNYkI7-o"
      },
      "execution_count": 29,
      "outputs": []
    },
    {
      "cell_type": "code",
      "source": [
        "stack_model_train_acc = accuracy_score(y_train, y_train_pred)\n",
        "stack_model_train_mcc = matthews_corrcoef(y_train, y_train_pred)\n",
        "stack_model_train_f1 = f1_score(y_train, y_train_pred, average='weighted')\n",
        "print('Model performance for Training set')\n",
        "print('- Accuracy: %s' % stack_model_train_acc)\n",
        "print('- MCC: %s' % stack_model_train_mcc)\n",
        "print('- F1 score: %s' % stack_model_train_f1)"
      ],
      "metadata": {
        "colab": {
          "base_uri": "https://localhost:8080/"
        },
        "id": "kRqGsDaoJLxC",
        "outputId": "35da8e5c-8a4d-4580-fc5f-1741fcdca135"
      },
      "execution_count": 30,
      "outputs": [
        {
          "output_type": "stream",
          "name": "stdout",
          "text": [
            "Model performance for Training set\n",
            "- Accuracy: 0.984\n",
            "- MCC: 0.9759800153727901\n",
            "- F1 score: 0.984\n"
          ]
        }
      ]
    },
    {
      "cell_type": "code",
      "source": [
        "stack_model_test_acc = accuracy_score(y_test, y_test_pred)\n",
        "stack_model_test_mcc = matthews_corrcoef(y_test, y_test_pred)\n",
        "stack_model_test_f1 = f1_score(y_test, y_test_pred, average='weighted')\n",
        "print('Model performance for Test set')\n",
        "print('- Accuracy: %s' % stack_model_test_acc)\n",
        "print('- MCC: %s' % stack_model_test_mcc)\n",
        "print('- F1 score: %s' % stack_model_test_f1)"
      ],
      "metadata": {
        "colab": {
          "base_uri": "https://localhost:8080/"
        },
        "id": "Vz21oZ_hJU7y",
        "outputId": "f19b90df-a2c1-4dda-9650-6666b76e92de"
      },
      "execution_count": 31,
      "outputs": [
        {
          "output_type": "stream",
          "name": "stdout",
          "text": [
            "Model performance for Test set\n",
            "- Accuracy: 0.96\n",
            "- MCC: 0.9414746160644475\n",
            "- F1 score: 0.9603619909502262\n"
          ]
        }
      ]
    }
  ]
}